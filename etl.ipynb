import os
import glob
import psycopg2
import pandas as pd
from sql_queries import *

conn = psycopg2.connect("host=127.0.0.1 dbname=sparkifydb user=student password=student")
cur = conn.cursor()
In [ ]:
def get_files(filepath):
    all_files = []
    for root, dirs, files in os.walk(filepath):
        files = glob.glob(os.path.join(root,'*.json'))
        for f in files :
            all_files.append(os.path.abspath(f))
    
    return all_files

song_files =

filepath =

df = 
df.head()
 
song_data = 
song_data

cur.execute(song_table_insert, song_data)
conn.commit()

artist_data = 
artist_data

cur.execute(artist_table_insert, artist_data)
conn.commit()

log_files =

filepath =

df = 
df.head()

df = 
df.head()

t = 
t.head()

time_data = ()
column_labels = ()

time_df = 
time_df.head()

for i, row in time_df.iterrows():
    cur.execute(time_table_insert, list(row))
    conn.commit()

user_df =

for i, row in user_df.iterrows():
    cur.execute(user_table_insert, row)
    conn.commit()

for index, row in df.iterrows():

    # get songid and artistid from song and artist tables
    cur.execute(song_select, (row.song, row.artist, row.length))
    results = cur.fetchone()
    
    if results:
        songid, artistid = results
    else:
        songid, artistid = None, None

    # insert songplay record
    songplay_data = ()
    cur.execute(songplay_table_insert, songplay_data)
    conn.commit()